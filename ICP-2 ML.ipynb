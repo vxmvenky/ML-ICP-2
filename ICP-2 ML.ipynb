{
 "cells": [
  {
   "cell_type": "code",
   "execution_count": 1,
   "id": "8b03ac7c-94ac-448d-a614-3050be1cd0bc",
   "metadata": {},
   "outputs": [
    {
     "name": "stdout",
     "output_type": "stream",
     "text": [
      "*\n",
      "**\n",
      "***\n",
      "****\n",
      "*****\n",
      "****\n",
      "***\n",
      "**\n",
      "*\n",
      "\n"
     ]
    }
   ],
   "source": [
    "# right pascal triangle\n",
    "n = 5\n",
    "\n",
    "# upper triangle\n",
    "for i in range(n):\n",
    "    for j in range(i + 1):\n",
    "        print('*', end=\"\")\n",
    "    print()\n",
    "# lower triangle\n",
    "for i in range(n):\n",
    "    for j in range(n - i - 1):\n",
    "        print('*', end=\"\")\n",
    "    print()"
   ]
  },
  {
   "cell_type": "code",
   "execution_count": 2,
   "id": "4b263e1f-5606-41c0-aa86-9cd526ae8d49",
   "metadata": {},
   "outputs": [
    {
     "name": "stdout",
     "output_type": "stream",
     "text": [
      "20\n",
      "40\n",
      "60\n",
      "80\n",
      "100\n"
     ]
    }
   ],
   "source": [
    "def elements_at_odd_indexes(my_list):\n",
    "    # Loop through the list and print elements at odd indexes\n",
    "    for i in range(1, len(my_list), 2):\n",
    "        print(my_list[i])\n",
    "\n",
    "# Example usage:\n",
    "my_list = [10, 20, 30, 40, 50, 60, 70, 80, 90, 100]\n",
    "elements_at_odd_indexes(my_list)"
   ]
  },
  {
   "cell_type": "code",
   "execution_count": 3,
   "id": "3aa13c9a-8cc2-41bd-adab-520b40652174",
   "metadata": {},
   "outputs": [
    {
     "name": "stdout",
     "output_type": "stream",
     "text": [
      "[23, 'Python', 23.98]\n",
      "[<class 'int'>, <class 'str'>, <class 'float'>]\n"
     ]
    }
   ],
   "source": [
    "def append_element_types(x):\n",
    "    # Create a list to store the types of elements in x\n",
    "    types = [type(element) for element in x]\n",
    "    # Print the original list and the list of types\n",
    "    print(x)\n",
    "    print(types)\n",
    "\n",
    "# Example usage:\n",
    "x = [23, 'Python', 23.98]\n",
    "append_element_types(x)"
   ]
  },
  {
   "cell_type": "code",
   "execution_count": 4,
   "id": "e52c8238-3665-4579-ab17-486bc090cfe1",
   "metadata": {},
   "outputs": [
    {
     "name": "stdout",
     "output_type": "stream",
     "text": [
      "Sample List: [1, 2, 3, 3, 3, 3, 4, 5]\n",
      "Unique List: [1, 2, 3, 4, 5]\n"
     ]
    }
   ],
   "source": [
    "def unique_items(my_list):\n",
    "    # Use a set to remove duplicates, then convert back to list\n",
    "    unique_list = list(set(my_list))\n",
    "    return unique_list\n",
    "\n",
    "# Example usage:\n",
    "sample_list = [1, 2, 3, 3, 3, 3, 4, 5]\n",
    "print(\"Sample List:\", sample_list)\n",
    "print(\"Unique List:\", unique_items(sample_list))"
   ]
  },
  {
   "cell_type": "code",
   "execution_count": 5,
   "id": "dc22b542-41c0-418a-bc13-7c0d3ff30345",
   "metadata": {},
   "outputs": [
    {
     "name": "stdout",
     "output_type": "stream",
     "text": [
      "No. of Upper-case characters: 3\n",
      "No. of Lower-case Characters: 12\n"
     ]
    }
   ],
   "source": [
    "def count_case_letters(s):\n",
    "    # Initialize counters for upper and lower case letters\n",
    "    upper_case_count = 0\n",
    "    lower_case_count = 0\n",
    "    \n",
    "    # Iterate through each character in the string\n",
    "    for char in s:\n",
    "        # Check if the character is upper case and increment the counter if true\n",
    "        if char.isupper():\n",
    "            upper_case_count += 1\n",
    "        # Check if the character is lower case and increment the counter if true\n",
    "        elif char.islower():\n",
    "            lower_case_count += 1\n",
    "    \n",
    "    # Print the results\n",
    "    print(\"No. of Upper-case characters:\", upper_case_count)\n",
    "    print(\"No. of Lower-case Characters:\", lower_case_count)\n",
    "\n",
    "# Example usage:\n",
    "input_string = 'The quick Brow Fox'\n",
    "count_case_letters(input_string)"
   ]
  }
 ],
 "metadata": {
  "kernelspec": {
   "display_name": "Python 3 (ipykernel)",
   "language": "python",
   "name": "python3"
  },
  "language_info": {
   "codemirror_mode": {
    "name": "ipython",
    "version": 3
   },
   "file_extension": ".py",
   "mimetype": "text/x-python",
   "name": "python",
   "nbconvert_exporter": "python",
   "pygments_lexer": "ipython3",
   "version": "3.11.7"
  }
 },
 "nbformat": 4,
 "nbformat_minor": 5
}
